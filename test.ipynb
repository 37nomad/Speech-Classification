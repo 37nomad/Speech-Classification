{
 "cells": [
  {
   "cell_type": "code",
   "execution_count": 1,
   "id": "a3931429",
   "metadata": {},
   "outputs": [],
   "source": [
    "import numpy as np\n",
    "import pandas as pd \n",
    "from sklearn.model_selection import train_test_split\n",
    "import random \n",
    "import torch\n",
    "import os \n",
    "from torch.utils.data import Dataset, DataLoader\n",
    "from pathlib import Path"
   ]
  },
  {
   "cell_type": "code",
   "execution_count": 2,
   "id": "9c27cfc9",
   "metadata": {},
   "outputs": [],
   "source": [
    "paths = []\n",
    "labels = []\n",
    "\n",
    "# Mention the folders on which it needs to be tested \n",
    "audio_files = [\"Audio_Speech_Actors_01-24\", \"Audio_Song_Actors_01-24\"]\n",
    "for main_file in audio_files:\n",
    "    for actor in os.listdir(main_file):\n",
    "        actor_path = os.path.join(main_file,actor)\n",
    "        for audio in os.listdir(actor_path):\n",
    "            if audio.endswith(\".wav\"):\n",
    "                path = os.path.join(actor_path, audio)\n",
    "                paths.append(path)\n",
    "                emotion = int(audio.split(\"-\")[2])\n",
    "                labels.append(emotion)"
   ]
  },
  {
   "cell_type": "code",
   "execution_count": 3,
   "id": "512fbf25",
   "metadata": {},
   "outputs": [],
   "source": [
    "data = list(zip(paths, labels))\n",
    "seed = random.Random(42)\n",
    "seed.shuffle(data)"
   ]
  },
  {
   "cell_type": "code",
   "execution_count": 4,
   "id": "ddcfcbff",
   "metadata": {},
   "outputs": [],
   "source": [
    "df_combined = pd.DataFrame(data, columns=[\"path\",\"label\"])"
   ]
  },
  {
   "cell_type": "code",
   "execution_count": 5,
   "id": "888ea342",
   "metadata": {},
   "outputs": [],
   "source": [
    "df_combined[\"path\"] = df_combined[\"path\"].str.replace(\"\\\\\", \"/\", regex=False)"
   ]
  },
  {
   "cell_type": "code",
   "execution_count": 6,
   "id": "1af61493",
   "metadata": {},
   "outputs": [],
   "source": [
    "df_combined[\"label\"] = df_combined[\"label\"].apply(lambda x: x-1)"
   ]
  },
  {
   "cell_type": "code",
   "execution_count": 7,
   "id": "26482d55",
   "metadata": {},
   "outputs": [
    {
     "name": "stdout",
     "output_type": "stream",
     "text": [
      "Max duration: 6.37306250 seconds\n",
      "sample rate: 16000.00\n",
      "Longest file: Audio_Song_Actors_01-24/Actor_22/03-02-02-02-02-01-22.wav\n"
     ]
    }
   ],
   "source": [
    "import librosa\n",
    "max_duration = 0\n",
    "longest_file = \"\"\n",
    "for path in df_combined['path']:\n",
    "    # full_path = os.path.join(base_dir, path)\n",
    "    if os.path.isfile(path):\n",
    "        waveform, sample_rate = librosa.load(path, sr=16000)\n",
    "        duration = waveform.shape[0] / sample_rate\n",
    "        if duration > max_duration:\n",
    "            max_duration = duration\n",
    "            longest_file = path\n",
    "    else:\n",
    "        print(f\"one file path is not available {path}\")\n",
    "        break\n",
    "\n",
    "print(f\"Max duration: {max_duration:.8f} seconds\")\n",
    "print(f\"sample rate: {sample_rate:.2f}\")\n",
    "print(f\"Longest file: {longest_file}\")"
   ]
  },
  {
   "cell_type": "code",
   "execution_count": 8,
   "id": "968d246b",
   "metadata": {},
   "outputs": [],
   "source": [
    "max_length = int(max_duration * 16000)"
   ]
  },
  {
   "cell_type": "code",
   "execution_count": 9,
   "id": "c1ac8acd",
   "metadata": {},
   "outputs": [],
   "source": [
    "training_data, validation_data = train_test_split(df_combined, test_size=0.2, random_state=32)"
   ]
  },
  {
   "cell_type": "code",
   "execution_count": 10,
   "id": "dcbbdd42",
   "metadata": {},
   "outputs": [
    {
     "name": "stdout",
     "output_type": "stream",
     "text": [
      "Length of Training Data:  1961\n",
      "Length of Validation Data:  491\n"
     ]
    }
   ],
   "source": [
    "print(\"Length of Training Data: \", len(training_data))\n",
    "print(\"Length of Validation Data: \", len(validation_data))"
   ]
  },
  {
   "cell_type": "code",
   "execution_count": 12,
   "id": "19a41d96",
   "metadata": {},
   "outputs": [],
   "source": [
    "from transformers import Wav2Vec2Model, Wav2Vec2Processor, Wav2Vec2ForSequenceClassification, Wav2Vec2Config, Trainer, TrainingArguments, Wav2Vec2FeatureExtractor\n",
    "model_path = \"D:\\Akhilesh-VS-Code\\Speech-Classification\\wav2vec2-large-weighted-training-3-3\\checkpoint-2952\"  # e.g., \"./results/checkpoint-1000\"\n",
    "model = Wav2Vec2ForSequenceClassification.from_pretrained(model_path)\n",
    "processor = Wav2Vec2FeatureExtractor.from_pretrained(model_path)"
   ]
  },
  {
   "cell_type": "code",
   "execution_count": 13,
   "id": "16faed99",
   "metadata": {},
   "outputs": [
    {
     "data": {
      "text/plain": [
       "pandas.core.frame.DataFrame"
      ]
     },
     "execution_count": 13,
     "metadata": {},
     "output_type": "execute_result"
    }
   ],
   "source": [
    "type(training_data)"
   ]
  },
  {
   "cell_type": "code",
   "execution_count": 14,
   "id": "872ddcfa",
   "metadata": {},
   "outputs": [],
   "source": [
    "class AudioDataset(Dataset):\n",
    "    def __init__(self, data, processor, max_length):\n",
    "        self.data = data\n",
    "        self.processor = processor\n",
    "        self.max_length = max_length\n",
    "    def __len__(self):\n",
    "        return len(self.data)\n",
    "    def __getitem__(self, index):\n",
    "        audio_path = self.data.iloc[index][\"path\"]\n",
    "        label = self.data.iloc[index][\"label\"]\n",
    "\n",
    "        audio, sr = librosa.load(audio_path)\n",
    "        audio = audio.squeeze()\n",
    "\n",
    "        if len(audio) > self.max_length :\n",
    "            audio = audio[:self.max_length]\n",
    "            # print(f\"found a audio file greater than max length : {audio_path} with an audio length {len(audio)}\")\n",
    "        else:\n",
    "            audio = np.pad(audio, (0,int(self.max_length-len(audio))), \"constant\")\n",
    "            \n",
    "        inputs = self.processor(audio, sampling_rate=16000, return_tensors='pt', padding=True, truncate=True, max_length=self.max_length)\n",
    "        input_values = inputs.input_values.squeeze()\n",
    "\n",
    "        return {'input_values': input_values, 'labels': torch.tensor(label, dtype=torch.long)}"
   ]
  },
  {
   "cell_type": "code",
   "execution_count": 15,
   "id": "f8b4eeac",
   "metadata": {},
   "outputs": [],
   "source": [
    "# train_dataset = AudioDataset(training_data, processor, max_length)\n",
    "# validation_dataset = AudioDataset(validation_data, processor, max_length)"
   ]
  },
  {
   "cell_type": "markdown",
   "id": "f347b125",
   "metadata": {},
   "source": [
    "### In the test_dataset keep whatever data you want after calling the class "
   ]
  },
  {
   "cell_type": "code",
   "execution_count": 16,
   "id": "a7fabb1a",
   "metadata": {},
   "outputs": [],
   "source": [
    "test_dataset = AudioDataset(validation_data, processor, max_length)\n",
    "batch_size = 8\n",
    "dataloader = DataLoader(test_dataset, batch_size=batch_size, shuffle=False)"
   ]
  },
  {
   "cell_type": "code",
   "execution_count": 17,
   "id": "231fcd58",
   "metadata": {},
   "outputs": [
    {
     "data": {
      "text/plain": [
       "Wav2Vec2ForSequenceClassification(\n",
       "  (wav2vec2): Wav2Vec2Model(\n",
       "    (feature_extractor): Wav2Vec2FeatureEncoder(\n",
       "      (conv_layers): ModuleList(\n",
       "        (0): Wav2Vec2GroupNormConvLayer(\n",
       "          (conv): Conv1d(1, 512, kernel_size=(10,), stride=(5,), bias=False)\n",
       "          (activation): GELUActivation()\n",
       "          (layer_norm): GroupNorm(512, 512, eps=1e-05, affine=True)\n",
       "        )\n",
       "        (1-4): 4 x Wav2Vec2NoLayerNormConvLayer(\n",
       "          (conv): Conv1d(512, 512, kernel_size=(3,), stride=(2,), bias=False)\n",
       "          (activation): GELUActivation()\n",
       "        )\n",
       "        (5-6): 2 x Wav2Vec2NoLayerNormConvLayer(\n",
       "          (conv): Conv1d(512, 512, kernel_size=(2,), stride=(2,), bias=False)\n",
       "          (activation): GELUActivation()\n",
       "        )\n",
       "      )\n",
       "    )\n",
       "    (feature_projection): Wav2Vec2FeatureProjection(\n",
       "      (layer_norm): LayerNorm((512,), eps=1e-05, elementwise_affine=True)\n",
       "      (projection): Linear(in_features=512, out_features=1024, bias=True)\n",
       "      (dropout): Dropout(p=0.1, inplace=False)\n",
       "    )\n",
       "    (encoder): Wav2Vec2Encoder(\n",
       "      (pos_conv_embed): Wav2Vec2PositionalConvEmbedding(\n",
       "        (conv): ParametrizedConv1d(\n",
       "          1024, 1024, kernel_size=(128,), stride=(1,), padding=(64,), groups=16\n",
       "          (parametrizations): ModuleDict(\n",
       "            (weight): ParametrizationList(\n",
       "              (0): _WeightNorm()\n",
       "            )\n",
       "          )\n",
       "        )\n",
       "        (padding): Wav2Vec2SamePadLayer()\n",
       "        (activation): GELUActivation()\n",
       "      )\n",
       "      (layer_norm): LayerNorm((1024,), eps=1e-05, elementwise_affine=True)\n",
       "      (dropout): Dropout(p=0.1, inplace=False)\n",
       "      (layers): ModuleList(\n",
       "        (0-23): 24 x Wav2Vec2EncoderLayer(\n",
       "          (attention): Wav2Vec2Attention(\n",
       "            (k_proj): Linear(in_features=1024, out_features=1024, bias=True)\n",
       "            (v_proj): Linear(in_features=1024, out_features=1024, bias=True)\n",
       "            (q_proj): Linear(in_features=1024, out_features=1024, bias=True)\n",
       "            (out_proj): Linear(in_features=1024, out_features=1024, bias=True)\n",
       "          )\n",
       "          (dropout): Dropout(p=0.1, inplace=False)\n",
       "          (layer_norm): LayerNorm((1024,), eps=1e-05, elementwise_affine=True)\n",
       "          (feed_forward): Wav2Vec2FeedForward(\n",
       "            (intermediate_dropout): Dropout(p=0.1, inplace=False)\n",
       "            (intermediate_dense): Linear(in_features=1024, out_features=4096, bias=True)\n",
       "            (intermediate_act_fn): GELUActivation()\n",
       "            (output_dense): Linear(in_features=4096, out_features=1024, bias=True)\n",
       "            (output_dropout): Dropout(p=0.1, inplace=False)\n",
       "          )\n",
       "          (final_layer_norm): LayerNorm((1024,), eps=1e-05, elementwise_affine=True)\n",
       "        )\n",
       "      )\n",
       "    )\n",
       "  )\n",
       "  (projector): Linear(in_features=1024, out_features=256, bias=True)\n",
       "  (classifier): Linear(in_features=256, out_features=8, bias=True)\n",
       ")"
      ]
     },
     "execution_count": 17,
     "metadata": {},
     "output_type": "execute_result"
    }
   ],
   "source": [
    "device = torch.device(\"cuda\" if torch.cuda.is_available() else \"cpu\")\n",
    "model.to(device)\n",
    "model.eval()"
   ]
  },
  {
   "cell_type": "code",
   "execution_count": 18,
   "id": "32ab3c4a",
   "metadata": {},
   "outputs": [
    {
     "name": "stderr",
     "output_type": "stream",
     "text": [
      "100%|██████████| 62/62 [00:32<00:00,  1.93it/s]\n"
     ]
    }
   ],
   "source": [
    "all_preds = []\n",
    "all_labels = []\n",
    "from tqdm import tqdm\n",
    "with torch.no_grad():\n",
    "    for batch in tqdm(dataloader):\n",
    "        input_values = batch[\"input_values\"].to(device)\n",
    "        labels = batch[\"labels\"].to(device)\n",
    "\n",
    "        # For classification heads\n",
    "        outputs = model(input_values=input_values)\n",
    "        logits = outputs.logits\n",
    "\n",
    "        predictions = torch.argmax(logits, dim=-1)\n",
    "\n",
    "        all_preds.extend(predictions.cpu().numpy())\n",
    "        all_labels.extend(labels.cpu().numpy())"
   ]
  },
  {
   "cell_type": "code",
   "execution_count": 19,
   "id": "7f0b7d65",
   "metadata": {},
   "outputs": [],
   "source": [
    "from sklearn.metrics import accuracy_score, precision_recall_fscore_support\n",
    "\n",
    "def get_metrics(labels, preds):\n",
    "    accuracy = accuracy_score(labels, preds)\n",
    "    precision, recall, fscore, _ = precision_recall_fscore_support(labels, preds, average=\"weighted\")\n",
    "    return {\n",
    "        'accuracy':accuracy,\n",
    "        'precision':precision,\n",
    "        'recall':recall,\n",
    "        'fscore':fscore\n",
    "    }"
   ]
  },
  {
   "cell_type": "code",
   "execution_count": 20,
   "id": "1ba5c0a3",
   "metadata": {},
   "outputs": [
    {
     "name": "stdout",
     "output_type": "stream",
     "text": [
      "{'accuracy': 0.8920570264765784, 'precision': 0.8967647299337387, 'recall': 0.8920570264765784, 'fscore': 0.8915531522049122}\n"
     ]
    }
   ],
   "source": [
    "print(get_metrics(all_labels, all_preds))"
   ]
  },
  {
   "cell_type": "code",
   "execution_count": 21,
   "id": "ba06d471",
   "metadata": {},
   "outputs": [],
   "source": [
    "label_names = ['neutral', 'calm', 'happy', 'sad', 'angry', 'fearful', 'disgust', 'surprised']"
   ]
  },
  {
   "cell_type": "code",
   "execution_count": 22,
   "id": "51640895",
   "metadata": {},
   "outputs": [
    {
     "data": {
      "image/png": "[encoded data removed]",
      "text/plain": [
       "<Figure size 800x600 with 2 Axes>"
      ]
     },
     "metadata": {},
     "output_type": "display_data"
    }
   ],
   "source": [
    "from sklearn.metrics import confusion_matrix\n",
    "import matplotlib.pyplot as plt\n",
    "import seaborn as sns\n",
    "import numpy as np\n",
    "labels = sorted(list(set(all_labels)))  # or pass your own label list\n",
    "\n",
    "cm = confusion_matrix(all_labels, all_preds, labels=labels)\n",
    "\n",
    "plt.figure(figsize=(8,6))\n",
    "sns.heatmap(cm, annot=True, fmt='d', cmap='Blues', xticklabels=labels, yticklabels=labels)\n",
    "plt.xlabel('Predicted Labels')\n",
    "plt.ylabel('True Labels')\n",
    "plt.title('Confusion Matrix')\n",
    "plt.show()\n"
   ]
  },
  {
   "cell_type": "code",
   "execution_count": 23,
   "id": "96c8678a",
   "metadata": {},
   "outputs": [
    {
     "name": "stdout",
     "output_type": "stream",
     "text": [
      "Class 0 Accuracy: 0.9091\n",
      "Class 1 Accuracy: 0.9672\n",
      "Class 2 Accuracy: 0.9231\n",
      "Class 3 Accuracy: 0.7910\n",
      "Class 4 Accuracy: 0.9459\n",
      "Class 5 Accuracy: 0.8161\n",
      "Class 6 Accuracy: 0.8919\n",
      "Class 7 Accuracy: 0.9302\n"
     ]
    }
   ],
   "source": [
    "per_class_accuracy = cm.diagonal() / cm.sum(axis=1)\n",
    "\n",
    "for i, acc in enumerate(per_class_accuracy):\n",
    "    print(f\"Class {labels[i]} Accuracy: {acc:.4f}\")\n"
   ]
  },
  {
   "cell_type": "code",
   "execution_count": null,
   "id": "76260e3f",
   "metadata": {},
   "outputs": [],
   "source": []
  },
  {
   "cell_type": "code",
   "execution_count": null,
   "id": "dc8c3016",
   "metadata": {},
   "outputs": [],
   "source": []
  },
  {
   "cell_type": "code",
   "execution_count": null,
   "id": "e0903a7f",
   "metadata": {},
   "outputs": [],
   "source": []
  }
 ],
 "metadata": {
  "kernelspec": {
   "display_name": "akhilesh-env",
   "language": "python",
   "name": "python3"
  },
  "language_info": {
   "codemirror_mode": {
    "name": "ipython",
    "version": 3
   },
   "file_extension": ".py",
   "mimetype": "text/x-python",
   "name": "python",
   "nbconvert_exporter": "python",
   "pygments_lexer": "ipython3",
   "version": "3.11.11"
  }
 },
 "nbformat": 4,
 "nbformat_minor": 5
}
